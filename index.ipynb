{
 "cells": [
  {
   "cell_type": "markdown",
   "metadata": {},
   "source": [
    "## 2016-2-2\n",
    "\n",
    "Notes on building and testing conductivity circuit here: https://github.com/SparkysWidgets/MinieCHW/blob/master/MinieCV1_2.pdf\n",
    "\n",
    "\n",
    "\n",
    "### Progress\n",
    "\n",
    "We've \n",
    "\n",
    "\n",
    "### Issue\n",
    "\n",
    "I'm observing saturation at around 3.8 V.  This is explained by this being the limit of op amp output for this particular op amp.  Might need to go to rail-to-rail (or dial in better input / amplification range).\n",
    "\n",
    "But how are we getting such a high voltage?\n",
    "- Input voltage is ~ 250 mV.  \n",
    "- Gain G = 1 + R_f/R_w\n",
    "- R_f = 40K\n",
    "- R_w ~ 20K .. 200K\n",
    "- See plot below .. shouldn't get more than .8V out of very high conductivity (low resistivity) solutions\n"
   ]
  },
  {
   "cell_type": "markdown",
   "metadata": {},
   "source": [
    "Aside on [op-amp](https://en.wikipedia.org/wiki/Operational_amplifier) amplifier circuit:\n",
    "\n",
    "<img src=\"https://upload.wikimedia.org/wikipedia/commons/6/66/Operational_amplifier_noninverting.svg\">\n",
    "\n",
    "$G = 1 + R_f/R_w$\n",
    "\n",
    "Where $R_f$ = 40KOhm in our particular amplifier circuit, and $R_w$ is the water's resistance across the probe we're using.\n"
   ]
  },
  {
   "cell_type": "code",
   "execution_count": 25,
   "metadata": {
    "collapsed": true
   },
   "outputs": [],
   "source": [
    "%matplotlib inline \n",
    "# above line allows for showing plots in a cell easily\n",
    "import matplotlib # the main plotting library\n",
    "import numpy as np # allows for arrays\n",
    "import matplotlib.pyplot as plt # getting specific plotting functions"
   ]
  },
  {
   "cell_type": "code",
   "execution_count": 47,
   "metadata": {
    "collapsed": false,
    "scrolled": true
   },
   "outputs": [
    {
     "data": {
      "text/plain": [
       "<matplotlib.text.Text at 0x7fbbf94b6438>"
      ]
     },
     "execution_count": 47,
     "metadata": {},
     "output_type": "execute_result"
    },
    {
     "data": {
      "image/png": "[encoded data removed]",
      "text/plain": [
       "<matplotlib.figure.Figure at 0x7fbbf94ba048>"
      ]
     },
     "metadata": {},
     "output_type": "display_data"
    }
   ],
   "source": [
    "R_water = np.linspace(20, 200, 100)  # 20 .. 200 kOhms\n",
    "V_in = 0.250 # mV\n",
    "Rf = 40 # kOhms\n",
    "y = V_in*(1+(Rf/R_water))\n",
    "plt.plot(x,y)\n",
    "plt.xlabel('R_water (kOhms)')\n",
    "plt.ylabel('V_out (Volts)')"
   ]
  },
  {
   "cell_type": "markdown",
   "metadata": {},
   "source": [
    "Reason for <a href=\"http://www.ti.com/lit/ds/symlink/tl072.pdf\">TL07xx</a> op amp saturation -- at VCC=5V, max output ~ 3V: <img src=\"https://raw.githubusercontent.com/OpenWaterProject/conductivity-research/master/images/TL07MaxPeakOutput.png\">\n",
    "\n",
    "... but this still doesn't explain why we're amplifying up to 3V, if the non-water amplifier resistor is 40K."
   ]
  },
  {
   "cell_type": "markdown",
   "metadata": {},
   "source": [
    "10uF:\n",
    "<a href=\"￼http://www.youtube.com/embed/bkJ653KVroY?rel=0&amp;showinfo=0\"><img src=\"http://img.youtube.com/vi/bkJ653KVroY/0.jpg\" \n",
    "alt=\"IMAGE ALT TEXT HERE\" width=\"240\" height=\"180\" border=\"10\"></a>\n"
   ]
  },
  {
   "cell_type": "code",
   "execution_count": 37,
   "metadata": {
    "collapsed": false
   },
   "outputs": [
    {
     "data": {
      "text/html": [
       "<iframe width=\"560\" height=\"315\" src=\"//www.youtube.com/embed/bkJ653KVroY?rel=0&amp;showinfo=0\" frameborder=\"0\" allowfullscreen></iframe>"
      ],
      "text/plain": [
       "<IPython.core.display.HTML object>"
      ]
     },
     "execution_count": 37,
     "metadata": {},
     "output_type": "execute_result"
    }
   ],
   "source": [
    "from IPython.display import HTML \n",
    "HTML('<iframe width=\"560\" height=\"315\" src=\"//www.youtube.com/embed/bkJ653KVroY?rel=0&amp;showinfo=0\" frameborder=\"0\" allowfullscreen></iframe>')\n"
   ]
  },
  {
   "cell_type": "markdown",
   "metadata": {},
   "source": [
    "0.1uF:"
   ]
  },
  {
   "cell_type": "code",
   "execution_count": 38,
   "metadata": {
    "collapsed": false
   },
   "outputs": [
    {
     "data": {
      "text/html": [
       "<iframe width=\"560\" height=\"315\" src=\"//www.youtube.com/embed/bq6PUedEDyg?rel=0&amp;showinfo=0\" rel=\"0\" frameborder=\"0\" allowfullscreen></iframe>"
      ],
      "text/plain": [
       "<IPython.core.display.HTML object>"
      ]
     },
     "execution_count": 38,
     "metadata": {},
     "output_type": "execute_result"
    }
   ],
   "source": [
    "from IPython.display import HTML \n",
    "HTML('<iframe width=\"560\" height=\"315\" src=\"//www.youtube.com/embed/bq6PUedEDyg?rel=0&amp;showinfo=0\" rel=\"0\" frameborder=\"0\" allowfullscreen></iframe>')\n"
   ]
  },
  {
   "cell_type": "markdown",
   "metadata": {
    "collapsed": true
   },
   "source": [
    "Notes. \n",
    "\n",
    "- input to water was .250 volts\n",
    "\n",
    "- 80 uS led to a voltage output of around 0.25 volts\n",
    "\n",
    "- 1400 uS led to a voltage output of around 2.5 volts\n",
    "\n",
    "- R_f = 42K\n",
    "\n",
    "- should we measure V_in to get an accurate sense of what's going into the water? Is this a way to do the four-probe thing?\n",
    "\n",
    "- $V_{out} / V_{in} = 1+R_f/R_g$\n",
    "\n",
    "- $R_f/((V_{out} / V_{in} - 1)) = R_g$\n",
    "\n",
    "Note that if R_g >>> R_f, we expect that V_out ~= V_in.  We saw that for 80 uS, so that probably means that we need a larger resistor for R_f if we want to measure solutions with such low conductivity values. \n",
    "\n"
   ]
  },
  {
   "cell_type": "code",
   "execution_count": null,
   "metadata": {
    "collapsed": true
   },
   "outputs": [],
   "source": []
  }
 ],
 "metadata": {
  "kernelspec": {
   "display_name": "Python 3",
   "language": "python",
   "name": "python3"
  },
  "language_info": {
   "codemirror_mode": {
    "name": "ipython",
    "version": 3
   },
   "file_extension": ".py",
   "mimetype": "text/x-python",
   "name": "python",
   "nbconvert_exporter": "python",
   "pygments_lexer": "ipython3",
   "version": "3.4.3"
  }
 },
 "nbformat": 4,
 "nbformat_minor": 0
}
